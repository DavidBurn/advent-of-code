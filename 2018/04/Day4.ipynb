{
 "cells": [
  {
   "cell_type": "markdown",
   "metadata": {},
   "source": [
    "# Day 4\n",
    "The challenge for day 4 was to find various methods to sneak past guards given their shift patterns and times they have fallen asleep.\n",
    "\n",
    "[Day 4 instructions](https://adventofcode.com/2018/day/4)\n",
    "\n",
    "I will run through my solution step by step, however I will leave the [full script at the end of this post](#script)\n",
    "\n",
    "## Part 1\n",
    "**Given the information about their previous shifts, which guard has been recorded asleep for the most minutes and which minute did that guard spend asleep most often?**\n"
   ]
  },
  {
   "cell_type": "code",
   "execution_count": 32,
   "metadata": {},
   "outputs": [
    {
     "data": {
      "text/plain": [
       "['[1518-09-14 00:54] wakes up',\n",
       " '[1518-04-15 23:58] Guard #373 begins shift',\n",
       " '[1518-07-25 00:53] wakes up',\n",
       " '[1518-07-04 00:45] wakes up',\n",
       " '[1518-07-26 00:51] wakes up',\n",
       " '[1518-06-21 00:43] falls asleep',\n",
       " '[1518-04-24 00:57] falls asleep',\n",
       " '[1518-11-20 00:52] wakes up',\n",
       " '[1518-04-20 00:39] falls asleep',\n",
       " '[1518-05-31 00:48] wakes up']"
      ]
     },
     "execution_count": 32,
     "metadata": {},
     "output_type": "execute_result"
    }
   ],
   "source": [
    "import pandas as pd\n",
    "import numpy as np\n",
    "import re\n",
    "\n",
    "with open('day4input.txt') as file:\n",
    "    data = file.read().split('\\n')\n",
    "    \n",
    "data[:10]"
   ]
  },
  {
   "cell_type": "markdown",
   "metadata": {},
   "source": [
    "Once split by new lines, the input data is a list of unsorted strings. The majority of my solution revolves around creating a pandas dataframe and applying some functions to it upon creation to extract the information I need from these strings into new columns. I then solve for the final answer, the functions created for this purpose are detailed below.\n",
    "\n",
    "The strings are first split on the ***\\]*** to create a date string (column 0) and the remaining characters (column 1)."
   ]
  },
  {
   "cell_type": "code",
   "execution_count": 33,
   "metadata": {},
   "outputs": [],
   "source": [
    "def change_date(df):\n",
    "    date = df[0].strip('[').replace('1518','2000')\n",
    "    return pd.to_datetime(date)"
   ]
  },
  {
   "cell_type": "markdown",
   "metadata": {},
   "source": [
    "***change_date*** strips the leading ***\\[*** from the string, replaces the year 1518 for 2000 so the dates can convert into datetime (there must be a better workaround for this) and then returns the converted date."
   ]
  },
  {
   "cell_type": "code",
   "execution_count": 34,
   "metadata": {},
   "outputs": [],
   "source": [
    "def get_mins(df):\n",
    "    try:\n",
    "        mins = df['diff'].total_seconds() / 60\n",
    "        if 'wake' not in df[1]:\n",
    "            mins = 0\n",
    "        return int(mins)\n",
    "    except AttributeError:\n",
    "        pass"
   ]
  },
  {
   "cell_type": "markdown",
   "metadata": {},
   "source": [
    "***get_mins*** takes the 'diff' column (created along with the dataframe, it is the difference between the date on that row and the previous row), extracts this value in seconds via the total_seconds() method and multiplies by 60 to return a minute value. If 'wake' is not present in column 1 this function returns 0, the idea being to get the number of minutes the guard was asleep by calculating the difference in time between a 'wake' row and its previous row ('falls asleep'). The try except clause just catches the attribute error for the first entry which doesn't have a 'diff' entry."
   ]
  },
  {
   "cell_type": "code",
   "execution_count": 35,
   "metadata": {},
   "outputs": [],
   "source": [
    "def get_guard(df):\n",
    "    m = re.search(r'\\d+', df[1])\n",
    "    if m:\n",
    "        return int(m.group())\n",
    "    return 0"
   ]
  },
  {
   "cell_type": "markdown",
   "metadata": {},
   "source": [
    "***get_guard*** searches for any digits in the string in column 1, returing that number if any were found and 0 if not."
   ]
  },
  {
   "cell_type": "code",
   "execution_count": 36,
   "metadata": {},
   "outputs": [],
   "source": [
    "df = (\n",
    "    pd.DataFrame([x.split(']') for x in data])\n",
    "    .drop(1267)\n",
    "    .assign(date=lambda df: df.apply(change_date,axis=1))\n",
    "    .sort_values(by='date')\n",
    "    .assign(\n",
    "        diff=lambda df: df['date'].diff(),\n",
    "        minutes=lambda df: df.apply(get_mins, axis=1),\n",
    "        guard=lambda df: df.apply(get_guard, axis=1),\n",
    "    )\n",
    "    .assign(guard=lambda df: df['guard'].replace(to_replace=0, method='ffill'))\n",
    ")"
   ]
  },
  {
   "cell_type": "markdown",
   "metadata": {},
   "source": [
    "The two other methods are ***sort_values*** which sorts the dataframe by date, and the final lambda function, this replaces all the 0 values for guard with the last occuring guard number.\n",
    "\n",
    "Now we have our dataframe with all we need to solve the problem, our created columns are the four named ones."
   ]
  },
  {
   "cell_type": "code",
   "execution_count": 37,
   "metadata": {},
   "outputs": [
    {
     "data": {
      "text/html": [
       "<div>\n",
       "<style scoped>\n",
       "    .dataframe tbody tr th:only-of-type {\n",
       "        vertical-align: middle;\n",
       "    }\n",
       "\n",
       "    .dataframe tbody tr th {\n",
       "        vertical-align: top;\n",
       "    }\n",
       "\n",
       "    .dataframe thead th {\n",
       "        text-align: right;\n",
       "    }\n",
       "</style>\n",
       "<table border=\"1\" class=\"dataframe\">\n",
       "  <thead>\n",
       "    <tr style=\"text-align: right;\">\n",
       "      <th></th>\n",
       "      <th>0</th>\n",
       "      <th>1</th>\n",
       "      <th>date</th>\n",
       "      <th>diff</th>\n",
       "      <th>minutes</th>\n",
       "      <th>guard</th>\n",
       "    </tr>\n",
       "  </thead>\n",
       "  <tbody>\n",
       "    <tr>\n",
       "      <th>645</th>\n",
       "      <td>[1518-01-12 23:57</td>\n",
       "      <td>Guard #3209 begins shift</td>\n",
       "      <td>2000-01-12 23:57:00</td>\n",
       "      <td>NaT</td>\n",
       "      <td>0</td>\n",
       "      <td>3209</td>\n",
       "    </tr>\n",
       "    <tr>\n",
       "      <th>1014</th>\n",
       "      <td>[1518-01-13 00:13</td>\n",
       "      <td>falls asleep</td>\n",
       "      <td>2000-01-13 00:13:00</td>\n",
       "      <td>00:16:00</td>\n",
       "      <td>0</td>\n",
       "      <td>3209</td>\n",
       "    </tr>\n",
       "    <tr>\n",
       "      <th>602</th>\n",
       "      <td>[1518-01-13 00:21</td>\n",
       "      <td>wakes up</td>\n",
       "      <td>2000-01-13 00:21:00</td>\n",
       "      <td>00:08:00</td>\n",
       "      <td>8</td>\n",
       "      <td>3209</td>\n",
       "    </tr>\n",
       "    <tr>\n",
       "      <th>387</th>\n",
       "      <td>[1518-01-13 23:56</td>\n",
       "      <td>Guard #751 begins shift</td>\n",
       "      <td>2000-01-13 23:56:00</td>\n",
       "      <td>23:35:00</td>\n",
       "      <td>0</td>\n",
       "      <td>751</td>\n",
       "    </tr>\n",
       "    <tr>\n",
       "      <th>1190</th>\n",
       "      <td>[1518-01-14 00:54</td>\n",
       "      <td>falls asleep</td>\n",
       "      <td>2000-01-14 00:54:00</td>\n",
       "      <td>00:58:00</td>\n",
       "      <td>0</td>\n",
       "      <td>751</td>\n",
       "    </tr>\n",
       "  </tbody>\n",
       "</table>\n",
       "</div>"
      ],
      "text/plain": [
       "                      0                          1                date  \\\n",
       "645   [1518-01-12 23:57   Guard #3209 begins shift 2000-01-12 23:57:00   \n",
       "1014  [1518-01-13 00:13               falls asleep 2000-01-13 00:13:00   \n",
       "602   [1518-01-13 00:21                   wakes up 2000-01-13 00:21:00   \n",
       "387   [1518-01-13 23:56    Guard #751 begins shift 2000-01-13 23:56:00   \n",
       "1190  [1518-01-14 00:54               falls asleep 2000-01-14 00:54:00   \n",
       "\n",
       "         diff  minutes  guard  \n",
       "645       NaT        0   3209  \n",
       "1014 00:16:00        0   3209  \n",
       "602  00:08:00        8   3209  \n",
       "387  23:35:00        0    751  \n",
       "1190 00:58:00        0    751  "
      ]
     },
     "execution_count": 37,
     "metadata": {},
     "output_type": "execute_result"
    }
   ],
   "source": [
    "df.head()"
   ]
  },
  {
   "cell_type": "markdown",
   "metadata": {},
   "source": [
    "We first need to find the guard asleep for the most minutes in total. First we group the dataframe by guard and sum the minutes for each guard, using this summation to find the index of the top sleeping guard, then his guard number."
   ]
  },
  {
   "cell_type": "code",
   "execution_count": 38,
   "metadata": {},
   "outputs": [],
   "source": [
    "# Group by guard\n",
    "mins_per_guard = df.groupby('guard',as_index=False)['minutes'].sum()\n",
    "\n",
    "#Take the top sleeping guards index\n",
    "top_sleeper_idx = mins_per_guard['minutes'].idxmax()\n",
    "\n",
    "# Find his guard number\n",
    "top_sleeper = mins_per_guard['guard'][top_sleeper_idx]"
   ]
  },
  {
   "cell_type": "markdown",
   "metadata": {},
   "source": [
    "To find the minute this guard was most asleep, I created a function ***minute_array*** which returns an empty array of zeros (representing each minute in the hour from 11pm to midnight) unless the row contains the word 'wake'. In the 'wake' rows the function returns an array of 0s and 1s with the 1s corresponding to the minutes the guard was asleep."
   ]
  },
  {
   "cell_type": "code",
   "execution_count": 39,
   "metadata": {},
   "outputs": [],
   "source": [
    "def minute_array(row):\n",
    "    empty = np.zeros(60)\n",
    "    if 'wake' in row[1]:\n",
    "        m = row['date'].minute\n",
    "        lead = [0 for x in range(m-row['minutes'])]\n",
    "        ones = [1 for x in range(row['minutes'])]\n",
    "        post = [0 for x in range(60-len(lead)-len(ones))]\n",
    "        return empty + (lead+ones+post)\n",
    "    return empty"
   ]
  },
  {
   "cell_type": "markdown",
   "metadata": {},
   "source": [
    "We then apply this function to each row of the dataframe filtered for only the top sleeping guards' entries, this list of arrays is then summed and the highest scoring minute obtained via the argmax method. The answer to part 1 can then be calculated (the number of guard most often asleep multiplied by the minute that guard was asleep most often)."
   ]
  },
  {
   "cell_type": "code",
   "execution_count": 40,
   "metadata": {},
   "outputs": [
    {
     "name": "stdout",
     "output_type": "stream",
     "text": [
      "Guard asleep most on the same minute :  863\n",
      "On minute 46\n",
      "Answer : 39698\n"
     ]
    }
   ],
   "source": [
    "minute_arrays = df[df['guard']==top_sleeper].apply(minute_array, axis=1)\n",
    "\n",
    "most_frequent = sum(minute_arrays).argmax()\n",
    "\n",
    "print('Guard asleep most on the same minute :  {}'.format(top_sleeper))\n",
    "print('On minute {}'.format(most_frequent))\n",
    "print('Answer : {}'.format(top_sleeper * most_frequent))"
   ]
  },
  {
   "cell_type": "markdown",
   "metadata": {},
   "source": [
    "## Part 2 \n",
    "**Of all the guards, find the guard who was asleep most often on one particular minute.**\n",
    "\n",
    "To approach part 2 I again used the ***minute_array*** function, this time inside another function ***most_asleep_min***. This function again finds the minute a guard most frequently spends asleep, returning the total count of times spent asleep on that minute, the minute itself and the guard number."
   ]
  },
  {
   "cell_type": "code",
   "execution_count": 41,
   "metadata": {},
   "outputs": [],
   "source": [
    "def most_asleep_min(x):\n",
    "    minute_arrays = df[df['guard']==x].apply(minute_array, axis=1)\n",
    "    most_freq = sum(minute_arrays).argmax()\n",
    "    total = sum(minute_arrays).max()\n",
    "    return total, most_freq, x"
   ]
  },
  {
   "cell_type": "markdown",
   "metadata": {},
   "source": [
    "We can then iterate over all of the guard numbers, referring back to our summed *mins_per_guard* dataframe to retrive the guard numbers via a list comprehension. The answer for part 2 is the guard number multiplied by the value of the minute slept through most often."
   ]
  },
  {
   "cell_type": "code",
   "execution_count": 43,
   "metadata": {},
   "outputs": [
    {
     "name": "stdout",
     "output_type": "stream",
     "text": [
      "Guard number 373 was asleep 17.0 times on minute 40\n",
      "Answer : 14920\n"
     ]
    }
   ],
   "source": [
    "# Apply most_asleep_min to each guard number in the mins_per_guard dataframe\n",
    "min_and_total = [most_asleep_min(x) for x in [x for x in mins_per_guard['guard']]]\n",
    "\n",
    "# Store details of the guard with the most frequently slept minute\n",
    "top = sorted(min_and_total, reverse=True)[0]\n",
    "\n",
    "# Print answers\n",
    "print('Guard number {} was asleep {} times on minute {}'.format(top[2],top[0],top[1]))\n",
    "print('Answer : {}'.format(top[2]*top[1]))"
   ]
  },
  {
   "cell_type": "markdown",
   "metadata": {},
   "source": [
    "<a id=\"script\" ></a>"
   ]
  },
  {
   "cell_type": "markdown",
   "metadata": {},
   "source": [
    "## Full script\n",
    "\n"
   ]
  },
  {
   "cell_type": "code",
   "execution_count": 44,
   "metadata": {},
   "outputs": [
    {
     "name": "stdout",
     "output_type": "stream",
     "text": [
      "Guard asleep most on the same minute :  863\n",
      "On minute 46\n",
      "Answer : 39698\n",
      "Guard number 373 was asleep 17.0 times on minute 40\n",
      "Answer : 14920\n"
     ]
    }
   ],
   "source": [
    "import pandas as pd\n",
    "import re\n",
    "import numpy as np\n",
    "\n",
    "with open('day4input.txt') as file:\n",
    "    data = file.read().split('\\n')\n",
    "    \n",
    "def change_date(row):\n",
    "    date = row[0].strip('[').replace('1518','2000')\n",
    "    return pd.to_datetime(date)\n",
    "\n",
    "def get_mins(row):\n",
    "    try:\n",
    "        mins = row['diff'].total_seconds() / 60\n",
    "        if 'wake' not in row[1]:\n",
    "            mins = 0\n",
    "        return int(mins)\n",
    "    except AttributeError:\n",
    "        pass\n",
    "    \n",
    "def get_guard(row):\n",
    "    m = re.search(r'\\d+', row[1])\n",
    "    if m:\n",
    "        return int(m.group())\n",
    "    return 0\n",
    "\n",
    "df = (\n",
    "    pd.DataFrame([x.split(']') for x in data])\n",
    "    .drop(1267)\n",
    "    .assign(date=lambda df: df.apply(change_date,axis=1))\n",
    "    .sort_values(by='date')\n",
    "    .assign(\n",
    "        diff=lambda df: df['date'].diff(),\n",
    "        minutes=lambda df: df.apply(get_mins, axis=1),\n",
    "        guard=lambda df: df.apply(get_guard, axis=1),\n",
    "    )\n",
    "    .assign(guard=lambda df: df['guard'].replace(to_replace=0, method='ffill'))\n",
    ")\n",
    "    \n",
    "mins_per_guard = df.groupby('guard',as_index=False)['minutes'].sum()\n",
    "top_sleeper_idx = mins_per_guard['minutes'].idxmax()\n",
    "top_sleeper = mins_per_guard['guard'][top_sleeper_idx]\n",
    "\n",
    "def minute_array(row):\n",
    "    empty = np.zeros(60)\n",
    "    if 'wake' in row[1]:\n",
    "        m = row['date'].minute\n",
    "        lead = [0 for x in range(m-row['minutes'])]\n",
    "        ones = [1 for x in range(row['minutes'])]\n",
    "        post = [0 for x in range(60-len(lead)-len(ones))]\n",
    "        return empty + (lead+ones+post)\n",
    "    return empty\n",
    "\n",
    "minute_arrays = df[df['guard']==top_sleeper].apply(minute_array, axis=1)\n",
    "\n",
    "most_frequent = sum(minute_arrays).argmax()\n",
    "\n",
    "print('Guard asleep most on the same minute :  {}'.format(top_sleeper))\n",
    "print('On minute {}'.format(most_frequent))\n",
    "print('Answer : {}'.format(top_sleeper * most_frequent))\n",
    "\n",
    "def most_asleep_min(x):\n",
    "    minute_arrays = df[df['guard']==x].apply(minute_array, axis=1)\n",
    "    most_freq = sum(minute_arrays).argmax()\n",
    "    total = sum(minute_arrays).max()\n",
    "    return total, most_freq, x\n",
    "\n",
    "min_and_total = [most_asleep_min(x) for x in [x for x in mins_per_guard['guard']]]\n",
    "top = sorted(min_and_total, reverse=True)[0]\n",
    "\n",
    "print('Guard number {} was asleep {} times on minute {}'.format(top[2],top[0],top[1]))\n",
    "print('Answer : {}'.format(top[2]*top[1]))"
   ]
  },
  {
   "cell_type": "code",
   "execution_count": null,
   "metadata": {},
   "outputs": [],
   "source": []
  }
 ],
 "metadata": {
  "kernelspec": {
   "display_name": "Python 3",
   "language": "python",
   "name": "python3"
  },
  "language_info": {
   "codemirror_mode": {
    "name": "ipython",
    "version": 3
   },
   "file_extension": ".py",
   "mimetype": "text/x-python",
   "name": "python",
   "nbconvert_exporter": "python",
   "pygments_lexer": "ipython3",
   "version": "3.6.8"
  }
 },
 "nbformat": 4,
 "nbformat_minor": 2
}
