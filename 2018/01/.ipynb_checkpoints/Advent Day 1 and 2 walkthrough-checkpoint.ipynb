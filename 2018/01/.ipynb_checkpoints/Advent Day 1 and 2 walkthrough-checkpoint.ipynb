{
 "cells": [
  {
   "cell_type": "markdown",
   "metadata": {},
   "source": [
    "# Advent of code 2018 - Day 1 and 2"
   ]
  },
  {
   "cell_type": "markdown",
   "metadata": {},
   "source": [
    "In December 2018 a friend challenged me to have a go at the (Advent Of Code), a new coding challenge for each day of advent, complete with a leaderboard for those that way inclined. The challenges started off simple and quickly got very tricky, being busy and with each challenge taking me a while to complete I didn't get very far so will try and complete them throughout the year.\n",
    "\n",
    "The instructions for each day are quite long and detailed so I will just post a link to the instructions each day and walk through my solution.\n",
    "\n",
    "## Day 1\n",
    "[Day 1 instructions](https://adventofcode.com/2018/day/1)\n",
    "\n",
    "### Part 1\n",
    "Open input file, split on whitespace and preview data. "
   ]
  },
  {
   "cell_type": "code",
   "execution_count": 1,
   "metadata": {},
   "outputs": [],
   "source": [
    "with open('day1input.txt') as file:\n",
    "    data = file.read().split()"
   ]
  },
  {
   "cell_type": "markdown",
   "metadata": {},
   "source": [
    "Use a generator expression to sum all of the values and print."
   ]
  },
  {
   "cell_type": "code",
   "execution_count": 2,
   "metadata": {},
   "outputs": [
    {
     "name": "stdout",
     "output_type": "stream",
     "text": [
      "Sum of all entries : 582\n"
     ]
    }
   ],
   "source": [
    "first_total = sum(int(x) for x in data)\n",
    "print('Sum of all entries : {}'.format(first_total))"
   ]
  },
  {
   "cell_type": "markdown",
   "metadata": {},
   "source": [
    "### Part 2"
   ]
  },
  {
   "cell_type": "markdown",
   "metadata": {},
   "source": [
    "Initialise emtpy counter for running total, and empty list for recording the running total after each addition."
   ]
  },
  {
   "cell_type": "code",
   "execution_count": 3,
   "metadata": {},
   "outputs": [],
   "source": [
    "total = 0\n",
    "subtotals = []"
   ]
  },
  {
   "cell_type": "markdown",
   "metadata": {},
   "source": [
    "For each entry in the data, add to the total, check if the total has already been recording and print if so. If not then record the total in subtotals. This process repeats, cycling through every entry in the input file over and over again until a repeated subtotal is found."
   ]
  },
  {
   "cell_type": "code",
   "execution_count": null,
   "metadata": {},
   "outputs": [],
   "source": [
    "while True:\n",
    "    for x in data:\n",
    "        total += int(x)\n",
    "        if total in subtotals:\n",
    "            subtotals.append(total)\n",
    "            print('First repeated total : {}'.format(total))\n",
    "            break"
   ]
  },
  {
   "cell_type": "markdown",
   "metadata": {},
   "source": [
    "## Day 2 \n",
    "[Day 2 instructions](https://adventofcode.com/2018/day/2)\n",
    "### Part 1\n",
    "Open input file, read in data and split it on whitespace."
   ]
  },
  {
   "cell_type": "code",
   "execution_count": null,
   "metadata": {},
   "outputs": [],
   "source": [
    "from collections import defaultdict\n",
    "import itertools\n",
    "import pprint\n",
    "\n",
    "with open('day2input.txt') as file:\n",
    "    data = file.read().split()"
   ]
  },
  {
   "cell_type": "markdown",
   "metadata": {},
   "source": [
    "Preview data."
   ]
  },
  {
   "cell_type": "code",
   "execution_count": null,
   "metadata": {},
   "outputs": [],
   "source": [
    "data[:10]"
   ]
  },
  {
   "cell_type": "markdown",
   "metadata": {},
   "source": [
    "Initialise counter for sets of twos and threes."
   ]
  },
  {
   "cell_type": "code",
   "execution_count": null,
   "metadata": {},
   "outputs": [],
   "source": [
    "twos = 0\n",
    "threes = 0"
   ]
  },
  {
   "cell_type": "markdown",
   "metadata": {},
   "source": [
    "### *check_pairs* function\n",
    "- Initialise *letters*, an empty dictionary with default value of 0.\n",
    "- For each letter in the string, add one to the corresponding key in *letters*.\n",
    "- Check for letters with exactly two entries in the string\n",
    "- Check for letters with exactly three entries in the string\n",
    "- Return updated twos and threes counters."
   ]
  },
  {
   "cell_type": "code",
   "execution_count": null,
   "metadata": {},
   "outputs": [],
   "source": [
    "def check_pairs(string, twos, threes):\n",
    "    letters = defaultdict(int)\n",
    "    for s in string:\n",
    "        letters[s] += 1\n",
    "    if 2 in letters.values():\n",
    "        twos += 1\n",
    "    if 3 in letters.values():\n",
    "        threes += 1\n",
    "    return twos, threes"
   ]
  },
  {
   "cell_type": "markdown",
   "metadata": {},
   "source": [
    "Run through of what happens inside the function :"
   ]
  },
  {
   "cell_type": "code",
   "execution_count": null,
   "metadata": {},
   "outputs": [],
   "source": [
    "data[0]"
   ]
  },
  {
   "cell_type": "code",
   "execution_count": null,
   "metadata": {},
   "outputs": [],
   "source": [
    "letters = defaultdict(int)\n",
    "for s in data[0]:\n",
    "    letters[s] += 1\n",
    "if 2 in letters.values():\n",
    "    twos += 1\n",
    "if 3 in letters.values():\n",
    "    threes += 1\n",
    "\n",
    "pprint.pprint(letters)"
   ]
  },
  {
   "cell_type": "markdown",
   "metadata": {},
   "source": [
    "Now we can use the *check_pairs* function to loop over all of the strings. "
   ]
  },
  {
   "cell_type": "code",
   "execution_count": null,
   "metadata": {},
   "outputs": [],
   "source": [
    "twos = 0\n",
    "threes = 0\n",
    "\n",
    "for d in data:\n",
    "    twos, threes = check_pairs(d, twos, threes)\n",
    "    \n",
    "print('Twos = {}, Threes = {}'.format(twos, threes))\n",
    "\n",
    "print('Checksum = {}'.format(twos*threes))"
   ]
  },
  {
   "cell_type": "code",
   "execution_count": null,
   "metadata": {},
   "outputs": [],
   "source": []
  }
 ],
 "metadata": {
  "kernelspec": {
   "display_name": "Python 3",
   "language": "python",
   "name": "python3"
  },
  "language_info": {
   "codemirror_mode": {
    "name": "ipython",
    "version": 3
   },
   "file_extension": ".py",
   "mimetype": "text/x-python",
   "name": "python",
   "nbconvert_exporter": "python",
   "pygments_lexer": "ipython3",
   "version": "3.6.8"
  }
 },
 "nbformat": 4,
 "nbformat_minor": 2
}
